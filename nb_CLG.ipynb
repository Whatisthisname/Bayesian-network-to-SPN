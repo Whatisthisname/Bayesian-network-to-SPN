{
 "cells": [
  {
   "cell_type": "code",
   "execution_count": 92,
   "metadata": {},
   "outputs": [
    {
     "name": "stdout",
     "output_type": "stream",
     "text": [
      "X ~ N(0.0, 1.0) Y ~ N(0.0, 2.0) Z ~ N(0.0, 2.0)\n"
     ]
    }
   ],
   "source": [
    "from math import sqrt\n",
    "import sys\n",
    "if \"clg\" in sys.modules:\n",
    "    del sys.modules[\"clg\"]\n",
    "from clg import Norm, CLG, noise\n",
    "\n",
    "X = \"X\" @ noise\n",
    "Y = \"Y\" @ (X + noise)\n",
    "Z = \"Z\" @ (-1*Y)\n",
    "print(X, Y, Z)"
   ]
  },
  {
   "cell_type": "code",
   "execution_count": 93,
   "metadata": {},
   "outputs": [
    {
     "name": "stdout",
     "output_type": "stream",
     "text": [
      "LEARNT PARAMETERS:\n",
      "cov error 1.4497930886854171\n",
      "µ error 0.2949576240750523\n",
      "NAIVE  PARAMETERS:\n",
      "cov error 9.576445060668389\n",
      "µ error 0.310966236109324\n"
     ]
    }
   ],
   "source": [
    "import numpy as np\n",
    "\n",
    "A = \"A\" @ (sqrt(2) * noise)\n",
    "K = \"K\" @ (3 + noise)\n",
    "B = \"B\" @ (1 + A + noise)\n",
    "C = \"C\" @ ((-3 + 2 * B) + 0.5 * noise)\n",
    "D = \"D\" @ (B + 2 * K)\n",
    "clg = CLG([A, K])\n",
    "\n",
    "true_µ = clg.get_μ().round(2)\n",
    "true_cov = clg.get_Σ().round(2)\n",
    "samples = clg.sample(1000)\n",
    "\n",
    "clg.learn_params(samples)\n",
    "\n",
    "print(\"LEARNT PARAMETERS:\")\n",
    "learnt_µ = clg.get_μ().round(2)\n",
    "learnt_cov = clg.get_Σ().round(2)\n",
    "print(\"cov error\", np.linalg.norm(true_cov - learnt_cov))\n",
    "print(\"µ error\", np.linalg.norm(true_μ - learnt_μ))\n",
    "\n",
    "print(\"NAIVE  PARAMETERS:\")\n",
    "naive_µ = (samples).mean().round(2)\n",
    "naive_cov = (samples).cov().round(2)\n",
    "\n",
    "print(\"cov error\", np.linalg.norm(true_cov - naive_cov))\n",
    "print(\"µ error\", np.linalg.norm(true_μ - naive_μ))\n"
   ]
  },
  {
   "attachments": {},
   "cell_type": "markdown",
   "metadata": {},
   "source": [
    "### Converting any multivariate gaussian to a CLG"
   ]
  },
  {
   "cell_type": "code",
   "execution_count": 110,
   "metadata": {},
   "outputs": [
    {
     "name": "stdout",
     "output_type": "stream",
     "text": [
      "X0    1.0\n",
      "X1    2.0\n",
      "X2    3.0\n",
      "dtype: float64\n",
      "     X0   X1    X2\n",
      "X0  1.0  0.5   0.5\n",
      "X1  0.5  3.0   0.7\n",
      "X2  0.5  0.7  10.0\n"
     ]
    }
   ],
   "source": [
    "def to_clg(mean : np.ndarray, cov : np.ndarray) -> CLG:   \n",
    "\n",
    "    scope = [f\"X{i}\" for i in range(len(mean))]\n",
    "    # create a dense CLG\n",
    "    # cov(0, 1) = alpha * cov(0,0) => alpha = cov(0, 1) / cov(0, 0)\n",
    "\n",
    "    first : Norm = scope[0] @ (noise * sqrt(cov[0, 0]) + mean[0])\n",
    "    parents = [first]\n",
    "\n",
    "    for i in range(1, len(mean)):\n",
    "        var = 0\n",
    "        mean_total = 0\n",
    "\n",
    "        n = noise * 0\n",
    "        for p in range(i):\n",
    "            # for each parent make to covariance right\n",
    "            alpha = cov[i, p] / cov[p, p]\n",
    "            n += alpha * parents[p]\n",
    "\n",
    "            var += (alpha * parents[p].current_sd)**2 \n",
    "            mean_total += alpha * parents[p].current_mean\n",
    "\n",
    "\n",
    "        remaining_var = cov[i, i] - var\n",
    "        remaining_mean = mean[i] - mean_total\n",
    "        # add independent noise at the end to get the right variance\n",
    "        n += noise * sqrt(remaining_var)\n",
    "        # add the mean to get the right mean\n",
    "        n += remaining_mean\n",
    "        \n",
    "        # baptize it :)\n",
    "        n @= scope[i]\n",
    "        parents += [n]\n",
    "    \n",
    "\n",
    "    return CLG([first])\n",
    "\n",
    "mean = np.array([1, 2, 3])\n",
    "cov = np.array([[1, 0.5, 0.5], [0.5, 3, 0.7], [0.5, 0.7, 10]])\n",
    "\n",
    "\n",
    "clg = to_clg(mean, cov)\n",
    "print(clg.get_µ())\n",
    "print(clg.get_Σ())"
   ]
  }
 ],
 "metadata": {
  "kernelspec": {
   "display_name": "Python 3",
   "language": "python",
   "name": "python3"
  },
  "language_info": {
   "codemirror_mode": {
    "name": "ipython",
    "version": 3
   },
   "file_extension": ".py",
   "mimetype": "text/x-python",
   "name": "python",
   "nbconvert_exporter": "python",
   "pygments_lexer": "ipython3",
   "version": "3.10.2"
  },
  "orig_nbformat": 4,
  "vscode": {
   "interpreter": {
    "hash": "369f2c481f4da34e4445cda3fffd2e751bd1c4d706f27375911949ba6bb62e1c"
   }
  }
 },
 "nbformat": 4,
 "nbformat_minor": 2
}
