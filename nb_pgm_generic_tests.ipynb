{
 "cells": [
  {
   "cell_type": "code",
   "execution_count": 43,
   "metadata": {},
   "outputs": [],
   "source": [
    "import sys\n",
    "try:\n",
    "    del sys.modules[\"spnhelp\"]\n",
    "except:\n",
    "    pass\n",
    "import spnhelp\n",
    "try:\n",
    "    del sys.modules[\"clg_revised_revised\"]\n",
    "except:\n",
    "    pass\n",
    "from clg_revised_revised import Node, Distribution as dist, ParentList as pa\n",
    "from math import sqrt\n",
    "from spn.io.Text import spn_to_str_equation\n",
    "import pandas as pd\n",
    "from spn.structure.leaves.parametric.Parametric import Gaussian, Uniform\n",
    "import numpy as np\n",
    "import matplotlib.pyplot as plt\n",
    "from spn.algorithms.Marginalization import marginalize\n",
    "from spn.algorithms.Inference import likelihood \n",
    "import scipy.stats as stats\n",
    "import torch\n",
    "from IPython.display import display"
   ]
  },
  {
   "attachments": {},
   "cell_type": "markdown",
   "metadata": {},
   "source": [
    "### Developing a nice PGM syntax\n",
    "It's a graph. We build it from the root.\n",
    " - Roots just needs their distribution and a name.\n",
    " - The rest needs its conditional distribution given its parents, its parents, and a name"
   ]
  },
  {
   "cell_type": "code",
   "execution_count": 44,
   "metadata": {},
   "outputs": [
    {
     "name": "stdout",
     "output_type": "stream",
     "text": [
      "[B|A=2, C|A=2]\n",
      "self: A\n",
      "r B|A=2\n",
      "L [B|A=2]\n",
      "S []\n",
      "r C|A=2\n",
      "L [C|A=2]\n",
      "S []\n",
      "self: K\n",
      "r K\n",
      "L [K]\n",
      "S []\n",
      "[[B|A=2], [C|A=2], [K]]\n"
     ]
    }
   ],
   "source": [
    "gauss_pdf = lambda x: np.exp(-x**2)\n",
    "\n",
    "A = \"A\" > dist(gauss_pdf)\n",
    "B = \"B\" |  pa(A) > dist(gauss_pdf)\n",
    "C = \"C\" |  pa(A) > dist(gauss_pdf)\n",
    "D = \"D\" | pa(B, C) > dist(gauss_pdf)\n",
    "\n",
    "K = \"K\" > dist(gauss_pdf)\n",
    "\n",
    "A & K\n",
    "\n",
    "A.set_evidence(2)\n",
    "print(A.get_roots())\n",
    "print(A.partition_by_connected_components())"
   ]
  },
  {
   "cell_type": "code",
   "execution_count": 45,
   "metadata": {},
   "outputs": [
    {
     "data": {
      "image/png": "[encoded data removed]",
      "text/plain": [
       "<Figure size 432x288 with 1 Axes>"
      ]
     },
     "metadata": {
      "needs_background": "light"
     },
     "output_type": "display_data"
    }
   ],
   "source": [
    "from spn.structure.Base import Node, Sum, Product, assign_ids, rebuild_scopes_bottom_up\n",
    "\n",
    "def disc_fun(func, num:int, bounds, normalize = True,scope= 0):\n",
    "    children = []\n",
    "    weights = []\n",
    "    for start, mid, end, weight in spnhelp.general_discretization_params(func, num=num, bounds=bounds , normalize=normalize):        \n",
    "        children += Uniform(start=start, end=end, scope=scope),\n",
    "        weights += weight,\n",
    "\n",
    "    s = Sum(children=children, weights=weights)\n",
    "    assign_ids(s)\n",
    "    rebuild_scopes_bottom_up(s)\n",
    "\n",
    "    return s\n",
    "\n",
    "spn = disc_fun(gauss_pdf, num = 25, bounds=(-2,2), normalize=True)\n",
    "x = np.linspace(-5, 5, 1000)\n",
    "\n",
    "plt.plot(x, likelihood(spn, x.reshape(-1, 1)));\n",
    "plt.plot(x, gauss_pdf(x)/sqrt(np.pi));"
   ]
  },
  {
   "cell_type": "code",
   "execution_count": 46,
   "metadata": {},
   "outputs": [
    {
     "name": "stdout",
     "output_type": "stream",
     "text": [
      "self: A\n",
      "r B|A=2\n",
      "L [B|A=2]\n",
      "S []\n",
      "r C|A=2\n",
      "L [C|A=2]\n",
      "S []\n",
      "self: K\n",
      "r K\n",
      "L [K]\n",
      "S []\n",
      "[] discretizing ['B']\n",
      "((-5.0, -4.444444444444445, -3.888888888888889, 1.6528490744941915e-09),)\n",
      "[] set B to -4.444444444444445\n"
     ]
    },
    {
     "ename": "NameError",
     "evalue": "name 'copy' is not defined",
     "output_type": "error",
     "traceback": [
      "\u001b[1;31m---------------------------------------------------------------------------\u001b[0m",
      "\u001b[1;31mNameError\u001b[0m                                 Traceback (most recent call last)",
      "\u001b[1;32mc:\\Users\\Theo\\Desktop\\BSc Project\\SPFlow+\\nb_pgm_generic_tests.ipynb Cell 5\u001b[0m in \u001b[0;36m<cell line: 66>\u001b[1;34m()\u001b[0m\n\u001b[0;32m     <a href='vscode-notebook-cell:/c%3A/Users/Theo/Desktop/BSc%20Project/SPFlow%2B/nb_pgm_generic_tests.ipynb#W4sZmlsZQ%3D%3D?line=61'>62</a>\u001b[0m         rebuild_scopes_bottom_up(prod)\n\u001b[0;32m     <a href='vscode-notebook-cell:/c%3A/Users/Theo/Desktop/BSc%20Project/SPFlow%2B/nb_pgm_generic_tests.ipynb#W4sZmlsZQ%3D%3D?line=63'>64</a>\u001b[0m     \u001b[39mreturn\u001b[39;00m prod\n\u001b[1;32m---> <a href='vscode-notebook-cell:/c%3A/Users/Theo/Desktop/BSc%20Project/SPFlow%2B/nb_pgm_generic_tests.ipynb#W4sZmlsZQ%3D%3D?line=65'>66</a>\u001b[0m spn \u001b[39m=\u001b[39m pgm_to_spn(A)\n",
      "\u001b[1;32mc:\\Users\\Theo\\Desktop\\BSc Project\\SPFlow+\\nb_pgm_generic_tests.ipynb Cell 5\u001b[0m in \u001b[0;36mpgm_to_spn\u001b[1;34m(pgm, num, name_map)\u001b[0m\n\u001b[0;32m     <a href='vscode-notebook-cell:/c%3A/Users/Theo/Desktop/BSc%20Project/SPFlow%2B/nb_pgm_generic_tests.ipynb#W4sZmlsZQ%3D%3D?line=35'>36</a>\u001b[0m     \u001b[39mprint\u001b[39m(\u001b[39m\"\u001b[39m\u001b[39m[] set\u001b[39m\u001b[39m\"\u001b[39m, roots[i]\u001b[39m.\u001b[39mname, \u001b[39m\"\u001b[39m\u001b[39mto\u001b[39m\u001b[39m\"\u001b[39m, dim[\u001b[39m1\u001b[39m])\n\u001b[0;32m     <a href='vscode-notebook-cell:/c%3A/Users/Theo/Desktop/BSc%20Project/SPFlow%2B/nb_pgm_generic_tests.ipynb#W4sZmlsZQ%3D%3D?line=37'>38</a>\u001b[0m     roots[i]\u001b[39m.\u001b[39mset_evidence(mid)\n\u001b[1;32m---> <a href='vscode-notebook-cell:/c%3A/Users/Theo/Desktop/BSc%20Project/SPFlow%2B/nb_pgm_generic_tests.ipynb#W4sZmlsZQ%3D%3D?line=39'>40</a>\u001b[0m     sub_factor \u001b[39m+\u001b[39m\u001b[39m=\u001b[39m Uniform(start\u001b[39m=\u001b[39mstart, end\u001b[39m=\u001b[39mend, scope \u001b[39m=\u001b[39m name_map[copy\u001b[39m.\u001b[39mget_roots()[i]\u001b[39m.\u001b[39mname]),\n\u001b[0;32m     <a href='vscode-notebook-cell:/c%3A/Users/Theo/Desktop/BSc%20Project/SPFlow%2B/nb_pgm_generic_tests.ipynb#W4sZmlsZQ%3D%3D?line=40'>41</a>\u001b[0m     sum_weight \u001b[39m*\u001b[39m\u001b[39m=\u001b[39m weight\n\u001b[0;32m     <a href='vscode-notebook-cell:/c%3A/Users/Theo/Desktop/BSc%20Project/SPFlow%2B/nb_pgm_generic_tests.ipynb#W4sZmlsZQ%3D%3D?line=42'>43</a>\u001b[0m \u001b[39m# now, get the pgm of the children.\u001b[39;00m\n",
      "\u001b[1;31mNameError\u001b[0m: name 'copy' is not defined"
     ]
    }
   ],
   "source": [
    "from itertools import product\n",
    "\n",
    "def pgm_to_spn(pgm : Node, num = 10, name_map = None):\n",
    "\n",
    "    # name mapping:\n",
    "    rebuild_scope = (name_map == None)\n",
    "    if name_map == None:\n",
    "        name_map = {name : i for i, name in enumerate(pgm.get_scope(across_factors = True))}\n",
    "\n",
    "    root_clusters = pgm.partition_by_connected_components()\n",
    "    \n",
    "    global_factors = []\n",
    "\n",
    "    for p in root_clusters:\n",
    "        roots = list(p)\n",
    "\n",
    "        if len(roots) == 1 and roots[0].children == []:\n",
    "            print(\"[] making a gaussian leaf from\", roots[0].name)\n",
    "            global_factors.append(Gaussian(mean=0, stdev=1, scope = name_map[roots[0].name])) #! fix this\n",
    "\n",
    "        else:            \n",
    "            discs = [spnhelp.general_discretization_params(n.cond_dist, num=num, bounds=(-5,5)) for n in roots]\n",
    "            print(\"[] discretizing\", [r.name for r in roots])#, \"and generating cartesian product of size\", np.prod([len(d) for d in discs]))\n",
    "            \n",
    "            summands = []\n",
    "            sum_weights = []\n",
    "\n",
    "            for cell in product(*discs): # for each possible assignment of the cells of the roots (cartesian product)\n",
    "                sub_factor = []\n",
    "                sum_weight = 1\n",
    "                \n",
    "                print(cell)\n",
    "                for i, dim in enumerate(cell): # condition each root on the assignment\n",
    "\n",
    "                    start, mid, end, weight = dim\n",
    "                    print(\"[] set\", roots[i].name, \"to\", dim[1])\n",
    "\n",
    "                    roots[i].set_evidence(mid)\n",
    "\n",
    "                    sub_factor += Uniform(start=start, end=end, scope = name_map[copy.get_roots()[i].name]),\n",
    "                    sum_weight *= weight\n",
    "            \n",
    "                # now, get the pgm of the children.\n",
    "                child = roots[0].castrate_roots()\n",
    "                sub_factor += pgm_to_spn(roots[0], num=num, name_map = name_map),\n",
    "\n",
    "                summands += Product(children = sub_factor),\n",
    "                sum_weights += sum_weight,\n",
    "\n",
    "                for r in roots:\n",
    "                    r.set_evidence(None)\n",
    "                              \n",
    "            s = Sum(children = summands, weights = sum_weights)\n",
    "\n",
    "            global_factors.append(s)\n",
    "\n",
    "\n",
    "    prod = Product(global_factors)\n",
    "\n",
    "    if rebuild_scope:\n",
    "        assign_ids(prod)\n",
    "        rebuild_scopes_bottom_up(prod)\n",
    "    \n",
    "    return prod\n",
    "\n",
    "spn = pgm_to_spn(A)"
   ]
  }
 ],
 "metadata": {
  "kernelspec": {
   "display_name": "Python 3",
   "language": "python",
   "name": "python3"
  },
  "language_info": {
   "codemirror_mode": {
    "name": "ipython",
    "version": 3
   },
   "file_extension": ".py",
   "mimetype": "text/x-python",
   "name": "python",
   "nbconvert_exporter": "python",
   "pygments_lexer": "ipython3",
   "version": "3.10.2"
  },
  "orig_nbformat": 4
 },
 "nbformat": 4,
 "nbformat_minor": 2
}
