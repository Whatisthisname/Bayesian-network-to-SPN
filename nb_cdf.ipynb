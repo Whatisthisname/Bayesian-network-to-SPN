{
 "cells": [
  {
   "cell_type": "code",
   "execution_count": 55,
   "metadata": {},
   "outputs": [
    {
     "name": "stdout",
     "output_type": "stream",
     "text": [
      "0.5\n"
     ]
    },
    {
     "data": {
      "image/png": "[encoded data removed]",
      "text/plain": [
       "<Figure size 432x288 with 1 Axes>"
      ]
     },
     "metadata": {
      "needs_background": "light"
     },
     "output_type": "display_data"
    }
   ],
   "source": [
    "import sys\n",
    "import spnhelp\n",
    "import clg\n",
    "from spn.structure.leaves.parametric.Parametric import Gaussian, Uniform\n",
    "import numpy as np\n",
    "import matplotlib.pyplot as plt\n",
    "import scipy.stats as stats\n",
    "from spn.algorithms.Inference import likelihood\n",
    "import matplotlib.pyplot as plt\n",
    "from spn.structure.Base import get_number_of_nodes, Node, Sum, Product, Leaf\n",
    "\n",
    "sd = 0.1\n",
    "mean = 0.5\n",
    "\n",
    "def slopyform_mean (node : spnhelp.Slopyform):\n",
    "    a, b, s = node.a, node.b, node.slope\n",
    "    t1 = a - b\n",
    "    t2 = t1 ** 2\n",
    "    return(-s * t2 * t1 / 12 + a / 2 + b / 2)\n",
    "\n",
    "\n",
    "\n",
    "def slopyform_CDF(node : spnhelp.Slopyform, x) -> float:\n",
    "    def cdf (x, a, b, s):\n",
    "        if x <= a:\n",
    "            s1 = 0\n",
    "        elif b <= x:\n",
    "            s1 = 1\n",
    "        else:\n",
    "            s1 = (s * (b - x) * a + 2 - b * (b - x) * s) * (a - x) / (-2 * b + 2 * a)\n",
    "        return(s1)\n",
    "    return cdf(x, node.a, node.b, node.slope)\n",
    "\n",
    "def SPN_cdf(SPN : Node, x):\n",
    "    if isinstance(SPN, Sum):\n",
    "        return sum([w * SPN_cdf(child, x) for w, child in zip(SPN.weights, SPN.children)])\n",
    "    elif isinstance(SPN, Product):\n",
    "        return None\n",
    "    elif isinstance(SPN, Leaf):\n",
    "        if isinstance(SPN, spnhelp.Slopyform):\n",
    "            return slopyform_CDF(SPN, x)\n",
    "        else:\n",
    "            raise Exception(\"Unknown leaf type\")\n",
    "\n",
    "def slopyform_INT(node : spnhelp.Slopyform, l:float, u:float) -> float:\n",
    "    a, b, s = node.a, node.b, node.slope\n",
    "    t6 = a - b\n",
    "    if u < l:\n",
    "        raise ValueError(f\"upper bound of integration {u} is less than lower bound {l}\") \n",
    "    elif b < l or u < a: \n",
    "        return 0.0\n",
    "    \n",
    "    u = min(u, b)\n",
    "    l = max(l, a)\n",
    "\n",
    "    if l == a and b == u:\n",
    "        return 1.0\n",
    "    else:\n",
    "        return 1 / t6 * (2 + s * (a - l - u + b) * t6) * (l - u) / 2\n",
    "\n",
    "def SPN_INT(SPN : Node, l:float, u:float):\n",
    "    if isinstance(SPN, Sum):\n",
    "        return sum([w * SPN_INT(child, l,u) for w, child in zip(SPN.weights, SPN.children)])\n",
    "    elif isinstance(SPN, Product):\n",
    "        return None\n",
    "    elif isinstance(SPN, Leaf):\n",
    "        if isinstance(SPN, spnhelp.Slopyform):\n",
    "            return slopyform_INT(SPN, l,u)\n",
    "        else:\n",
    "            raise Exception(\"Unknown leaf type\")\n",
    "\n",
    "\n",
    "spn = spnhelp.clg_to_spn(\"A\" @ (sd*clg.noise + mean), crit_param=1.2, crit=spnhelp.CRIT_nothing, disc_leaves=True, sloped=True)\n",
    "# spn = spnhelp.Slopyform(0.0, 1.0, 2.0, 0)\n",
    "dom = np.linspace(-0.1,1.1,100)\n",
    "plt.plot(dom, likelihood(spn, dom[:,None]))\n",
    "\n",
    "ys = [SPN_cdf(spn, x) for x in dom]\n",
    "plt.plot(dom, ys)\n",
    "\n",
    "\n",
    "ys = [1 + SPN_INT(spn, -1, x) for x in dom]\n",
    "plt.plot(dom, ys)\n",
    "\n",
    "# print(slopyform_mean(spn))\n",
    "\n",
    "print(SPN_INT(spn, 0.5, 1.0))\n",
    "# print(SPN_cdf(spn, 2.0))"
   ]
  }
 ],
 "metadata": {
  "kernelspec": {
   "display_name": "Python 3",
   "language": "python",
   "name": "python3"
  },
  "language_info": {
   "codemirror_mode": {
    "name": "ipython",
    "version": 3
   },
   "file_extension": ".py",
   "mimetype": "text/x-python",
   "name": "python",
   "nbconvert_exporter": "python",
   "pygments_lexer": "ipython3",
   "version": "3.10.2"
  },
  "orig_nbformat": 4
 },
 "nbformat": 4,
 "nbformat_minor": 2
}
